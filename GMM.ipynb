{
 "cells": [
  {
   "cell_type": "code",
   "execution_count": 25,
   "metadata": {},
   "outputs": [],
   "source": [
    "import numpy as np\n",
    "import random\n",
    "def init_centroid(dataset, k_centroid):\n",
    "    num_samples, dims = dataset.shape\n",
    "    if isinstance(k_centroid, int):  # if k_centroid is a number means the number of the component\n",
    "        centroids = np.zeros((k_centroid, dims))\n",
    "        for i in range(k_centroid):\n",
    "            index = int(random.uniform(0, num_samples))\n",
    "            centroids[i, :] = dataset[index, :]  # return the number of the cluster and centroid of each cluster\n",
    "    else:  # if k_centroid is a initial K centroid\n",
    "        centroids = np.array(k_centroid)\n",
    "    return centroids"
   ]
  },
  {
   "cell_type": "code",
   "execution_count": 11,
   "metadata": {},
   "outputs": [
    {
     "name": "stdout",
     "output_type": "stream",
     "text": [
      "Step1:load data...\n",
      "Step2:clustering\n"
     ]
    }
   ],
   "source": [
    "print('Step1:load data...')\n",
    "dataset = []\n",
    "file_in = open('./data_xigua3.txt')\n",
    "for line in file_in.readlines():\n",
    "    # line.strip(rm) delete the 'rm' at the begining and ending\n",
    "    # line.split example:s = \"a#b#c\",ls = line.split(\"#\") ls = ['a','b','c']\n",
    "    line_arr = line.split(' ')\n",
    "    dataset.append([float(line_arr[0]), float(line_arr[4].strip())])\n",
    "print('Step2:clustering')\n",
    "dataset = np.mat(dataset)"
   ]
  },
  {
   "cell_type": "code",
   "execution_count": 38,
   "metadata": {},
   "outputs": [
    {
     "data": {
      "text/plain": [
       "30"
      ]
     },
     "execution_count": 38,
     "metadata": {},
     "output_type": "execute_result"
    }
   ],
   "source": [
    "centroid = init_centroid(dataset,3)\n",
    "len(dataset)"
   ]
  },
  {
   "cell_type": "code",
   "execution_count": 41,
   "metadata": {
    "collapsed": true
   },
   "outputs": [],
   "source": [
    "def gaussian(x, miu, sigma):\n",
    "    norm_factor = (2 * np.pi) ** len(x)\n",
    "    norm_factor *= np.linalg.det(sigma)  # np.linalg.det计算矩阵的行列式\n",
    "    norm_factor = 1.0 / np.sqrt(norm_factor)\n",
    "    x_mu = np.matrix(x - miu)\n",
    "    rs = norm_factor * np.exp(-0.5 * x_mu.T * np.linalg.inv(sigma) * x_mu)\n",
    "    return rs"
   ]
  },
  {
   "cell_type": "code",
   "execution_count": 42,
   "metadata": {
    "collapsed": true
   },
   "outputs": [],
   "source": [
    "def likelihood(x, k, miu, sigma, pi):\n",
    "    likelihood = 0.0\n",
    "    for k in range(k):\n",
    "        likelihood += pi[k] * gaussian(x, miu[k], sigma[k])\n",
    "    return likelihood"
   ]
  },
  {
   "cell_type": "code",
   "execution_count": 43,
   "metadata": {
    "collapsed": true
   },
   "outputs": [],
   "source": [
    "def log_likelihood(data, k, miu, sigma, pi):\n",
    "    log_likelihood = 0.0\n",
    "    for n in range(len(data)):\n",
    "        log_likelihood += np.log(likelihood(data[n], k, miu, sigma, pi))\n",
    "    return log_likelihood\n"
   ]
  },
  {
   "cell_type": "code",
   "execution_count": 47,
   "metadata": {},
   "outputs": [],
   "source": [
    "def init_param(data, k):\n",
    "    centroids = init_centroid(data,k)\n",
    "    pi_k = np.zeros((1, k))\n",
    "    centroid_sigma = np.zeros((centroids.shape[0], centroids.shape[0], k))\n",
    "    # evaluate the initial value of the log likelihood\n",
    "    #llh_value = log_likelihood(data, k, centroids, centroid_sigma, pi_k)\n",
    "    return centroids, centroid_sigma, pi_k"
   ]
  },
  {
   "cell_type": "code",
   "execution_count": 48,
   "metadata": {},
   "outputs": [],
   "source": [
    "centroids,p_sigma,pi_k = init_param(dataset,3)"
   ]
  },
  {
   "cell_type": "code",
   "execution_count": 51,
   "metadata": {},
   "outputs": [
    {
     "data": {
      "text/plain": [
       "array([[ 0.751,  0.489],\n",
       "       [ 0.282,  0.257],\n",
       "       [ 0.725,  0.445]])"
      ]
     },
     "execution_count": 51,
     "metadata": {},
     "output_type": "execute_result"
    }
   ],
   "source": []
  },
  {
   "cell_type": "code",
   "execution_count": null,
   "metadata": {
    "collapsed": true
   },
   "outputs": [],
   "source": []
  }
 ],
 "metadata": {
  "kernelspec": {
   "display_name": "Python 3",
   "language": "python",
   "name": "python3"
  },
  "language_info": {
   "codemirror_mode": {
    "name": "ipython",
    "version": 3
   },
   "file_extension": ".py",
   "mimetype": "text/x-python",
   "name": "python",
   "nbconvert_exporter": "python",
   "pygments_lexer": "ipython3",
   "version": "3.6.1"
  }
 },
 "nbformat": 4,
 "nbformat_minor": 2
}
